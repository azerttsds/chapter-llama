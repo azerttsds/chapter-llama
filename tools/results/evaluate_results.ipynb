{
 "cells": [
  {
   "cell_type": "code",
   "execution_count": 1,
   "metadata": {},
   "outputs": [],
   "source": [
    "from pathlib import Path\n",
    "\n",
    "import sys\n",
    "\n",
    "sys.path.append(str(Path().cwd().parent.parent))\n",
    "from tools.results.utils_print import print_metrics\n",
    "from tools.results.utils import find_matching_paths"
   ]
  },
  {
   "cell_type": "markdown",
   "metadata": {},
   "source": [
    "This notebook shows results from various video chapter generation experiments. \n",
    "   - `config_var`: A dictionary containing varying parameters for different experimental conditions (e.g., different models, data types, or approaches)\n",
    "   - `config_fix`: A dictionary containing fixed parameters that remain constant across all comparisons\n",
    "\n",
    "The `find_matching_paths` function:\n",
    "   - Takes `config_var` and `config_fix` as inputs\n",
    "   - Has default configuration values for parameters like `task_name`, `model_name`, `prompt`, etc.\n",
    "   - Constructs path patterns based on the configurations\n",
    "   - Searches for experiment output directories matching these patterns\n",
    "   - Returns a dictionary mapping experiment names to their corresponding result paths\n",
    "\n",
    "The `print_metrics` function displays various evaluation metrics for each experiment, including:\n",
    "   - F1 scores\n",
    "   - Average TIoU (Temporal Intersection over Union)\n",
    "   - CIDEr scores for caption quality\n",
    "   - SODA metrics for temporal alignment\n"
   ]
  },
  {
   "cell_type": "markdown",
   "metadata": {},
   "source": [
    "If you want to remove the output of PTBTokenizer, you can add `, stderr=subprocess.DEVNULL` to the `subprocess.Popen`.\n"
   ]
  },
  {
   "cell_type": "markdown",
   "metadata": {},
   "source": [
    "### SOTA"
   ]
  },
  {
   "cell_type": "code",
   "execution_count": null,
   "metadata": {},
   "outputs": [],
   "source": [
    "config_var = {\n",
    "    \"Zero-shot\": {\n",
    "        \"model_name\": \"Meta-Llama-3.1-8B-Instruct\",\n",
    "        \"data_flags\": \"asr_s10k-2_train_preds+no-asr-10s_asr+captions\",\n",
    "        \"subset\": \"zero-shot\",\n",
    "        \"test\": \"test_merged\",\n",
    "    },\n",
    "    \"Zero-shot (gpt-4o-mini)\": {\n",
    "        \"model_name\": \"gpt-4o-mini\",\n",
    "        \"data_flags\": \"asr_gpt-4o-mini_zero-shot\",\n",
    "        \"subset\": \"zero-shot\",\n",
    "    },\n",
    "    \"Zero-shot (gpt-4o)\": {\n",
    "        \"model_name\": \"gpt-4o\",\n",
    "        \"data_flags\": \"asr_gpt-4o_zero-shot\",\n",
    "        \"subset\": \"zero-shot\",\n",
    "    },\n",
    "    \"Zero-shot (gemini-2.0-flash)\": {\n",
    "        \"model_name\": \"gemini-2.0-flash\",\n",
    "        \"data_flags\": \"asr_gemini-2.0-flash_zero-shot\",\n",
    "        \"subset\": \"zero-shot\",\n",
    "    },\n",
    "    \"Zero-shot (gemini-1.5-pro)\": {\n",
    "        \"model_name\": \"gemini-1.5-pro\",\n",
    "        \"data_flags\": \"asr_gemini-1.5-pro_zero-shot\",\n",
    "        \"subset\": \"zero-shot\",\n",
    "    },\n",
    "    \"Finetuned\": {\n",
    "        \"data_flags\": \"asr_s10k-2_train_preds+no-asr-10s\",\n",
    "        \"subset\": \"sml10k_train\",\n",
    "        \"test\": \"test_merged\",\n",
    "    },\n",
    "}\n",
    "\n",
    "config_fix = {\n",
    "    \"prompt\": \"captions_asr\",\n",
    "}\n",
    "\n",
    "for subset_test in [\"s10p_test\", \"m10p_test\", \"l10p_test\", \"sml10p_test\"]:\n",
    "    print(f\"Subset: {subset_test}\")\n",
    "    print_metrics(config_var, config_fix, subset_test=subset_test)\n",
    "    print()"
   ]
  },
  {
   "cell_type": "markdown",
   "metadata": {},
   "source": [
    "### Modalities"
   ]
  },
  {
   "cell_type": "code",
   "execution_count": null,
   "metadata": {},
   "outputs": [],
   "source": [
    "config_var = {\n",
    "    \"ASR\": {\n",
    "        \"prompt\": \"asr/\",\n",
    "        \"data_flags\": \"default\",\n",
    "    },\n",
    "    \"Captions\": {\n",
    "        \"prompt\": \"captions\",\n",
    "    },\n",
    "    \"Captions + ASR\": {\n",
    "        \"prompt\": \"captions_asr\",\n",
    "        \"test\": \"test\",\n",
    "    },\n",
    "}\n",
    "config_fix = {\n",
    "    \"subset\": \"sml1k_train\",\n",
    "    \"data_flags\": \"asr_s10k-2_train_preds+no-asr-10s\",\n",
    "}\n",
    "\n",
    "matching_paths = find_matching_paths(config_var, config_fix=config_fix)\n",
    "subset_test = \"sml300_val\"\n",
    "print_metrics(config_var, config_fix, subset_test=subset_test)"
   ]
  },
  {
   "cell_type": "markdown",
   "metadata": {},
   "source": [
    "### Frame selection"
   ]
  },
  {
   "cell_type": "code",
   "execution_count": null,
   "metadata": {},
   "outputs": [],
   "source": [
    "config_var = {\n",
    "    \"ASR\": {\n",
    "        \"data_flags\": \"default\",\n",
    "        \"prompt\": \"asr/\",\n",
    "    },\n",
    "    \"100 equidistant\": {\n",
    "        \"data_flags\": \"100f\",\n",
    "    },\n",
    "    \"Every 10 sec.\": {\n",
    "        \"data_flags\": \"10s\",\n",
    "    },\n",
    "    \"10 equidistant\": {\n",
    "        \"data_flags\": \"10f\",\n",
    "    },\n",
    "    \"Shot detection\": {\n",
    "        \"data_flags\": \"shot_boundaries\",\n",
    "    },\n",
    "    \"CL$_{Speech}$\": {\n",
    "        \"data_flags\": \"asr_s10k-2_train_preds+no-asr-10s\",\n",
    "    },\n",
    "}\n",
    "\n",
    "config_fix = {\"subset\": \"sml1k_train\", \"prompt\": \"captions/\"}\n",
    "config_fix = {\"subset\": \"sml1k_train\", \"prompt\": \"captions_asr/\"}\n",
    "\n",
    "print_metrics(config_var, config_fix, subset_test=\"sml300_val\")"
   ]
  }
 ],
 "metadata": {
  "kernelspec": {
   "display_name": "sb2",
   "language": "python",
   "name": "python3"
  },
  "language_info": {
   "codemirror_mode": {
    "name": "ipython",
    "version": 3
   },
   "file_extension": ".py",
   "mimetype": "text/x-python",
   "name": "python",
   "nbconvert_exporter": "python",
   "pygments_lexer": "ipython3",
   "version": "3.12.9"
  }
 },
 "nbformat": 4,
 "nbformat_minor": 2
}
